{
  "nbformat": 4,
  "nbformat_minor": 0,
  "metadata": {
    "colab": {
      "provenance": [],
      "authorship_tag": "ABX9TyOdS6uKytHG+bQ5tRss29rU",
      "include_colab_link": true
    },
    "kernelspec": {
      "name": "python3",
      "display_name": "Python 3"
    },
    "language_info": {
      "name": "python"
    }
  },
  "cells": [
    {
      "cell_type": "markdown",
      "metadata": {
        "id": "view-in-github",
        "colab_type": "text"
      },
      "source": [
        "<a href=\"https://colab.research.google.com/github/FrescoDev/simple-neural-network-demo/blob/main/simple_neural_network.ipynb\" target=\"_parent\"><img src=\"https://colab.research.google.com/assets/colab-badge.svg\" alt=\"Open In Colab\"/></a>"
      ]
    },
    {
      "cell_type": "markdown",
      "source": [
        "# Simple Neural Network (demo)\n",
        "\n",
        "A simplified NN put together to illustrate core ML concepts using core Python and NumPy"
      ],
      "metadata": {
        "id": "TsA8ku2XsTEX"
      }
    },
    {
      "cell_type": "markdown",
      "source": [
        "First, let's import NumPy in order to allow us to easily work with arrays and matrices."
      ],
      "metadata": {
        "id": "tYgpC9bIsjH1"
      }
    },
    {
      "cell_type": "code",
      "source": [
        "import numpy as np\n"
      ],
      "metadata": {
        "id": "D5fepk2Ls-8K"
      },
      "execution_count": 2,
      "outputs": []
    },
    {
      "cell_type": "markdown",
      "source": [
        "Let's define a simple neural network with:\n",
        "\n",
        "- 2 input neurons\n",
        "- 1 hidden layer with 3 neurons\n",
        "- 1 output node with 1 neuron\n",
        "\n",
        "This kind of looks like:\n",
        "\n",
        "![graphviz.svg](data:image/svg+xml;base64,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)\n",
        "\n",
        "Each of the arrows represent a weight in the neural network "
      ],
      "metadata": {
        "id": "0w6JhvkatCqV"
      }
    },
    {
      "cell_type": "markdown",
      "source": [
        "Next, we define a class to represent our neural network. \n",
        "\n",
        "The main components will include:\n",
        "\n",
        "- the nodes and the weights between the nodes, and the learning rate\n",
        "- the train method is the main method that will be called to train the neural network\n",
        "- the predict method will be called to make predictions\n",
        "- the sigmoid method as the activation function that is applied to the signals"
      ],
      "metadata": {
        "id": "gHcCVid8TyYR"
      }
    },
    {
      "cell_type": "markdown",
      "source": [
        "We'll start by defining the weight matrices. There are two we'll need to build to connect the three layers:\n",
        "\n",
        "- Input -> Hidden\n",
        "- Hidden -> Output\n",
        "\n",
        "For the input to hidden weight matrix, this will look roughly like the following:\n",
        "\n",
        "\\begin{bmatrix}\n",
        "   w_1 & w_2 & w_3 \\\\\n",
        "   w_4 & w_5 & w_6\n",
        "\\end{bmatrix}\n",
        "\n",
        "& the hidden to output weight matrix will look like:\n",
        "\n",
        "\\begin{bmatrix}\n",
        "   w_1 \\\\\n",
        "   w_2 \\\\\n",
        "   w_3\n",
        "\\end{bmatrix}"
      ],
      "metadata": {
        "id": "KaiHi9hhZCFJ"
      }
    },
    {
      "cell_type": "markdown",
      "source": [
        "In order to train the network, we'll go through the following process:\n",
        "\n",
        "- Forward pass: which specifies how the input data is transformed by the model to produce the output predictions.\n",
        "- Backward pass: which measures the difference between the predicted output and the true output and then update the model parameters based on the loss.\n",
        "\n",
        "\n",
        "\n",
        "Let's initialise some mock training data as follows:\n"
      ],
      "metadata": {
        "id": "H1e0ZNxkb0gy"
      }
    },
    {
      "cell_type": "code",
      "source": [
        "train_inputs = np.array([[0, 0], [0, 1], [1, 0], [1, 1]])\n",
        "train_outputs = np.array([[0, 1, 1, 0]]).T"
      ],
      "metadata": {
        "id": "rdQfRLJGdwFq"
      },
      "execution_count": 3,
      "outputs": []
    },
    {
      "cell_type": "markdown",
      "source": [
        "To break this down:\n",
        "\n",
        "- The first column is the input for the first node\n",
        "- The second column is the input for the second node\n",
        "- We have 4 training examples (or classes) denoted by the number of rows\n",
        "- The first row is the first training example\n",
        "- The second row is the second training example\n",
        "- The third row is the third training example\n",
        "- The fourth row is the fourth training example\n",
        "\n",
        "This looks like this in matrix form: \n",
        "\n",
        "\\begin{bmatrix}\n",
        "   0 & 0 \\\\\n",
        "   0 & 1 \\\\\n",
        "   1 & 0 \\\\\n",
        "   1 & 1 \\\\\n",
        "\\end{bmatrix}\n",
        "\n",
        "Where `(0,0)` would be our first training example, `(0,1)` our 2nd and so forth. \n",
        "\n",
        "A real world example of this could be a neural network that takes two inputs, height and weight, and outputs whether or not the person is overweight.\n",
        "\n",
        "\\begin{bmatrix}\n",
        "   180 & 75 \\\\\n",
        "   190 & 85 \\\\\n",
        "   170 & 60 \\\\\n",
        "   180 & 90 \\\\\n",
        "\\end{bmatrix}\n",
        "\n",
        "Where 180 cm and 75 kg would be the first training example.\n",
        "\n",
        "We also defined our predicted targets for each training example. This looks like:\n",
        "\n",
        "\\begin{bmatrix}\n",
        "   0 \\\\\n",
        "   1 \\\\\n",
        "   1 \\\\\n",
        "   0 \\\\\n",
        "\\end{bmatrix}\n",
        "\n",
        "So this would mean that in our training data, sample class `(0,0)` has a predicted output of `0` and so forth. In our real world example, this could correspond to the set of binary classes in our overweight example (i.e. 1 would represent overweight, and 0 not overweight)."
      ],
      "metadata": {
        "id": "hMU3l_jKd3lh"
      }
    },
    {
      "cell_type": "markdown",
      "source": [
        "## Initialising the weight matrices\n",
        "\n",
        "We'll use numpy's `np.random.normal` function to define a `(2,3)` matrix for the input to hidden layer weights - filled with random values that fit a normal distribution with mean `0` and standard deviation `1/sqrt(n)` where n is the number of input nodes.\n",
        "\n",
        "This will produce a matrix with the following shape:\n",
        "\n",
        "\\begin{bmatrix}\n",
        "   w_1 & w_2 & w_3 \\\\\n",
        "   w_4 & w_5 & w_6\n",
        "\\end{bmatrix}\n",
        "\n",
        "The matrix for the hidden to output layer weights uses the same method but with different dimensions, producing a weight matrix which looks like:\n",
        "\n",
        "\\begin{bmatrix}\n",
        "   w_1 \\\\\n",
        "   w_2 \\\\\n",
        "   w_3\n",
        "\\end{bmatrix}"
      ],
      "metadata": {
        "id": "_92X5sCy--TR"
      }
    },
    {
      "cell_type": "code",
      "source": [
        "input_to_hidden_weight_matrix = np.random.normal(0.0, 2**-0.5,\n",
        "                                                        (2, 3))\n",
        "print(input_to_hidden_weight_matrix)\n",
        "\n",
        "hidden_to_output_weight_matrix = np.random.normal(0.0, 3**-0.5,\n",
        "                                                        (3, 1))\n",
        "\n",
        "print(hidden_to_output_weight_matrix)"
      ],
      "metadata": {
        "colab": {
          "base_uri": "https://localhost:8080/"
        },
        "id": "2YlZD30R_bKc",
        "outputId": "4cdc6091-4f63-44dd-ac10-8820443439f6"
      },
      "execution_count": 4,
      "outputs": [
        {
          "output_type": "stream",
          "name": "stdout",
          "text": [
            "[[-0.16907713 -0.52980406 -0.40294388]\n",
            " [ 1.24127819 -0.23089244  1.16215273]]\n",
            "[[-0.72198837]\n",
            " [-0.68314498]\n",
            " [ 0.21095515]]\n"
          ]
        }
      ]
    },
    {
      "cell_type": "markdown",
      "source": [
        "## Training\n",
        "\n",
        "First, we'll do a **forward pass** which specifies how the input data is transformed by the model to produce the output predictions.\n",
        "\n",
        "In our model, we do this by calculating the signals into the hidden layer by multiplying the weights by the inputs and then apply the activation function to the signals.\n",
        "\n",
        "This is simply matrix multiplication of the input matrix with our **input to hidden layer** weight matrix.\n",
        "\n",
        "i.e. \n",
        "\n",
        "$\\begin{bmatrix} x_1 & x_2 \\\\ x_3 & x_4 \\\\ x_5 & x_6 \\\\ x_7 & x_8 \\end{bmatrix}\\ \\times \\begin{bmatrix} w_1 & w_2 & w_3 \\\\ w_4 & w_5 & w_6 \\end{bmatrix} = \\begin{bmatrix} x_1w_1 + x_2w_4 & x_1w_2 + x_2w_5 & x_1w_3 + x_2w_6 \\\\ x_3w_1 + x_4w_4 & x_3w_2 + x_4w_5 & x_3w_3 + x_4w_6 \\\\ x_5w_1 + x_6w_4 & x_5w_2 + x_6w_5 & x_5w_3 + x_6w_6 \\\\ x_7w_1 + x_8w_4 & x_7w_2 + x_8w_5 & x_7w_3 + x_8w_6 \\end{bmatrix}$\n",
        "\n",
        "Then applying the activation function (sigmoid) to the results to get the full signal values.\n",
        "\n",
        "We then do the same thing to get from our hidden layer values to our output layer. "
      ],
      "metadata": {
        "id": "XO9FNJLORg9S"
      }
    },
    {
      "cell_type": "code",
      "source": [
        "import matplotlib.pyplot as plt\n",
        "\n",
        "# define the activation function (sigmoid)\n",
        "def activation(x):\n",
        "  return 1 / (1 + np.exp(-x))\n",
        "\n",
        "# let's plot to visualise how this looks\n",
        "\n",
        "# generate a range of input values\n",
        "x = np.linspace(-10, 10, 100)\n",
        "\n",
        "# compute the output of the neuron for each input\n",
        "y = activation(x)\n",
        "\n",
        "# plot the input-output curve\n",
        "plt.plot(x, y)\n",
        "plt.xlabel('Input')\n",
        "plt.ylabel('Output')\n",
        "plt.show()\n",
        "\n",
        "# forward pass to get hidden layer outputs (Inputs x Hidden layer Weights)\n",
        "hidden_inputs = np.matmul(train_inputs, input_to_hidden_weight_matrix)\n",
        "hidden_outputs = activation(hidden_inputs)\n",
        "\n",
        "# propagate forward to get the final layer outputs (Hidden layer outputs x Final layer Weights)\n",
        "final_inputs = np.matmul(hidden_outputs, hidden_to_output_weight_matrix)\n",
        "final_outputs = activation(final_inputs)\n",
        "\n",
        "print(hidden_outputs)\n",
        "print(final_outputs)\n"
      ],
      "metadata": {
        "colab": {
          "base_uri": "https://localhost:8080/",
          "height": 422
        },
        "id": "Q7LQyJ-BtpzC",
        "outputId": "e6fe301c-9f97-4b20-d2e9-7b3bfcd44907"
      },
      "execution_count": 5,
      "outputs": [
        {
          "output_type": "display_data",
          "data": {
            "text/plain": [
              "<Figure size 432x288 with 1 Axes>"
            ],
            "image/png": "[encoded data removed]"
          },
          "metadata": {
            "needs_background": "light"
          }
        },
        {
          "output_type": "stream",
          "name": "stdout",
          "text": [
            "[[0.5        0.5        0.5       ]\n",
            " [0.77578642 0.44253197 0.76172366]\n",
            " [0.45783113 0.37056259 0.40060525]\n",
            " [0.74501527 0.31849507 0.68118194]]\n",
            "[[0.35500994]\n",
            " [0.33142817]\n",
            " [0.37773175]\n",
            " [0.35165513]]\n"
          ]
        }
      ]
    },
    {
      "cell_type": "markdown",
      "source": [
        "Once we've done our forward pass and calcuated signals all the way across our layers into our output layer. We can do a **backward pass**.\n",
        "\n",
        "This is where we calculate the **loss** (measures the difference between the predicted output and the true output) and then update the model parameters based on the loss value.\n",
        "\n",
        "\n",
        "\n"
      ],
      "metadata": {
        "id": "gOiK3B_mTPxQ"
      }
    },
    {
      "cell_type": "code",
      "source": [
        "loss = final_outputs - train_outputs # how wrong was the model in its first pass\n",
        "print(loss)"
      ],
      "metadata": {
        "colab": {
          "base_uri": "https://localhost:8080/"
        },
        "id": "ls6056JPWU2n",
        "outputId": "7447aadb-51d8-4b27-a3ea-c7efac5a291b"
      },
      "execution_count": 7,
      "outputs": [
        {
          "output_type": "stream",
          "name": "stdout",
          "text": [
            "[[ 0.35500994]\n",
            " [-0.66857183]\n",
            " [-0.62226825]\n",
            " [ 0.35165513]]\n"
          ]
        }
      ]
    },
    {
      "cell_type": "markdown",
      "source": [
        "We then update the weights using gradient descent / backpropagation. The weights are updated by multiplying the error by the inputs, then scaling by the learning rate (how quickly or slowly to update).\n",
        "\n",
        "`output_errors * final_outputs * (1.0 - final_outputs)` is the gradient & the learning rate is the step size for the gradient descent.\n",
        "\n",
        "So in full we get the updated weights to the hidden -> output layer by doing:\n",
        "\n",
        "`updated_weights += learning_rate * (forward_pass_signal_outputs * gradient)`\n",
        "\n",
        "which looks like this in our case:\n",
        "\n",
        "`weights_hidden_to_output += learning_rate * np.matmul(hidden_outputs.T, output_errors * final_outputs * (1.0 - final_outputs))`\n",
        "\n",
        "& similarly for the hidden -> input layer:\n",
        "\n",
        "`weights_input_to_hidden += learning_rate * np.matmul(inputs_list.T, hidden_errors * hidden_outputs * (1.0 - hidden_outputs))`\n"
      ],
      "metadata": {
        "id": "oWn9aTiJXEAi"
      }
    },
    {
      "cell_type": "markdown",
      "source": [
        "## Putting this all together\n",
        "\n",
        "See below for a class which combines the above to create a simple dumbed-down neural network applying the above components."
      ],
      "metadata": {
        "id": "Vx34T2noYtv5"
      }
    },
    {
      "cell_type": "code",
      "source": [
        "class NeuralNetwork():\n",
        "    def __init__(self):\n",
        "        print('Initialising the model')\n",
        "\n",
        "        # number of nodes in the input, hidden and output layers\n",
        "        self.input_nodes = 2\n",
        "        self.hidden_nodes = 3\n",
        "        self.output_nodes = 1\n",
        "\n",
        "        # Defining the weights\n",
        "        # This matrix has dimensions: (input_nodes, hidden_nodes) or (2,3)\n",
        "\n",
        "        # We use a normal distribution with mean 0 and standard deviation 1/sqrt(n)\n",
        "        # where n is the number of input nodes\n",
        "        # the third argument is a tuple of the dimensions of the matrix\n",
        "        self.weights_input_to_hidden = np.random.normal(0.0, self.input_nodes**-0.5,\n",
        "                                                        (self.input_nodes, self.hidden_nodes))\n",
        "\n",
        "        # this is a 3x1 matrix (hidden_nodes, output_nodes)\n",
        "        self.weights_hidden_to_output = np.random.normal(0.0, self.hidden_nodes**-0.5,\n",
        "                                                         (self.hidden_nodes, self.output_nodes))\n",
        "\n",
        "        # learning rate\n",
        "        # this is the step size for the gradient descent or simply put the amount by which the weights are updated\n",
        "        # value is typically between 0.1 and 0.001\n",
        "        # if the value is too high, the weights will overshoot the minimum & if the value is too low, the weights will take a long time to converge\n",
        "        self.lr = 0.1\n",
        "\n",
        "    def train(self, inputs_list, targets_list):\n",
        "        # Forward pass\n",
        "\n",
        "        # calculate the signals into the hidden layer by multiplying the weights by the inputs\n",
        "        # then apply the activation function to the signals\n",
        "        # input_list is a 4x2 matrix and weights_input_to_hidden is a 2x3 matrix\n",
        "        # so the result is a 4x3 matrix\n",
        "        hidden_inputs = np.matmul(inputs_list, self.weights_input_to_hidden)\n",
        "        hidden_outputs = self.sigmoid(hidden_inputs)\n",
        "\n",
        "        # calculate the signals into the final output layer\n",
        "        # multiply the hidden layer outputs by the weights\n",
        "        # then apply the activation function\n",
        "        # hidden_outputs is a 4x3 matrix and weights_hidden_to_output is a 3x1 matrix\n",
        "        # so the result is a 4x1 matrix\n",
        "        final_inputs = np.matmul(hidden_outputs, self.weights_hidden_to_output)\n",
        "        final_outputs = self.sigmoid(final_inputs)\n",
        "\n",
        "        # Backward pass\n",
        "\n",
        "        # First, calculate the error\n",
        "\n",
        "        # error is (target - actual)\n",
        "        # to get the hidden layer error, we need to multiply the output error by the weights\n",
        "        # hidden layer error is the output error, split by the weights, recombined at the hidden nodes\n",
        "        # weights_hidden_to_output is a 3x1 matrix and output_errors is a 4x1 matrix\n",
        "        # so the result is a 4x3 matrix\n",
        "        output_errors = targets_list - final_outputs\n",
        "        hidden_errors = np.matmul(\n",
        "            output_errors, self.weights_hidden_to_output.T)\n",
        "\n",
        "        # update the weights using gradient descent / backpropagation\n",
        "        # the weights are updated by multiplying the error by the inputs, then scaling by the learning rate\n",
        "        # output_errors * final_outputs * (1.0 - final_outputs) is the gradient & the learning rate is the step size for the gradient descent\n",
        "        # the hidden to output weights are updated by multiplying the error by the hidden layer outputs\n",
        "        # the input to hidden weights are updated by multiplying the error by the inputs\n",
        "        # hidden_outputs is a 4x3 matrix and output_errors * final_outputs * (1.0 - final_outputs) is a 3x1 matrix\n",
        "        # so we transpose the hidden_outputs matrix to make it a 3x4 matrix and then multiply it by the 4x1 matrix\n",
        "        # so the result is a 3x1 matrix\n",
        "        self.weights_hidden_to_output += self.lr * \\\n",
        "            np.matmul(hidden_outputs.T, output_errors *\n",
        "                      final_outputs * (1.0 - final_outputs))\n",
        "\n",
        "        # inputs_list is a 4x2 matrix and hidden_errors * hidden_outputs * (1.0 - hidden_outputs) is a 4x3 matrix\n",
        "        # so we transpose the inputs_list matrix to make it a 2x4 matrix and then multiply it by the 4x3 matrix\n",
        "        # so the result is a 2x3 matrix\n",
        "        self.weights_input_to_hidden += self.lr * \\\n",
        "            np.matmul(inputs_list.T, hidden_errors *\n",
        "                      hidden_outputs * (1.0 - hidden_outputs))\n",
        "\n",
        "    def sigmoid(self, x):\n",
        "        output = 1 / (1 + np.exp(-x))\n",
        "        return output\n",
        "\n",
        "    def predict(self, input):\n",
        "        # to make a prediction, we need to forward pass the input through the network\n",
        "        # the input is a 1x2 matrix and weights_input_to_hidden is a 2x3 matrix\n",
        "        # so the result is a 1x3 matrix\n",
        "        hidden_inputs = np.matmul(\n",
        "            np.array(input), self.weights_input_to_hidden)\n",
        "\n",
        "        # input is a 1x2 matrix and weights_input_to_hidden is a 2x3 matrix\n",
        "        # so the result is a 1x3 matrix\n",
        "        # calculate the signals into the hidden layer\n",
        "        hidden_inputs = np.matmul(\n",
        "            np.array(input), self.weights_input_to_hidden)\n",
        "\n",
        "        # calculate the signals emerging from the hidden layer\n",
        "        # we don't need to multiply by the weights because the weights are already in the hidden_inputs so we just apply the activation function\n",
        "        hidden_outputs = self.sigmoid(hidden_inputs)\n",
        "\n",
        "        # calculate the signals into the final output layer\n",
        "        # hidden_outputs is a 1x3 matrix and weights_hidden_to_output is a 3x1 matrix\n",
        "        # so the result is a 1x1 matrix\n",
        "        final_inputs = np.matmul(hidden_outputs, self.weights_hidden_to_output)\n",
        "        final_outputs = self.sigmoid(final_inputs)\n",
        "\n",
        "        return final_outputs"
      ],
      "metadata": {
        "id": "roTUhzx8VhPK"
      },
      "execution_count": 8,
      "outputs": []
    },
    {
      "cell_type": "markdown",
      "source": [
        "Let's first initialise how customer simplified neural network"
      ],
      "metadata": {
        "id": "c_fakfwFY-oR"
      }
    },
    {
      "cell_type": "code",
      "source": [
        "model = NeuralNetwork()"
      ],
      "metadata": {
        "colab": {
          "base_uri": "https://localhost:8080/"
        },
        "id": "VAZJMG6cZC3K",
        "outputId": "69568158-5711-4e23-e46d-ebcaa168f6b5"
      },
      "execution_count": 9,
      "outputs": [
        {
          "output_type": "stream",
          "name": "stdout",
          "text": [
            "Initialising the model\n"
          ]
        }
      ]
    },
    {
      "cell_type": "markdown",
      "source": [
        "Let's now train it based on our fake training data"
      ],
      "metadata": {
        "id": "LZD4uoOTajMx"
      }
    },
    {
      "cell_type": "code",
      "source": [
        "for epoch in range(10):\n",
        "    model.train(train_inputs, train_outputs)"
      ],
      "metadata": {
        "id": "D_jZq1tKanDl"
      },
      "execution_count": 12,
      "outputs": []
    },
    {
      "cell_type": "markdown",
      "source": [
        "And finally use our trained model to make a prediction based on a class with data: `(1,0)`"
      ],
      "metadata": {
        "id": "3FO1UeeAbQ6c"
      }
    },
    {
      "cell_type": "code",
      "source": [
        "print(model.predict([1,0]))"
      ],
      "metadata": {
        "colab": {
          "base_uri": "https://localhost:8080/"
        },
        "id": "cbxBeyYQbTZH",
        "outputId": "8e76904e-8299-4bef-832a-faa86f01f047"
      },
      "execution_count": 13,
      "outputs": [
        {
          "output_type": "stream",
          "name": "stdout",
          "text": [
            "[0.53795434]\n"
          ]
        }
      ]
    }
  ]
}